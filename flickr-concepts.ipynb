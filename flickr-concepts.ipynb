{
 "cells": [
  {
   "cell_type": "code",
   "execution_count": 1,
   "metadata": {
    "collapsed": true
   },
   "outputs": [],
   "source": [
    "import pandas as pd"
   ]
  },
  {
   "cell_type": "code",
   "execution_count": 2,
   "metadata": {
    "collapsed": true
   },
   "outputs": [],
   "source": [
    "df = pd.read_table('./raw/yfcc100m_autotags-v1',sep='\\t',header=None)"
   ]
  },
  {
   "cell_type": "code",
   "execution_count": 3,
   "metadata": {
    "collapsed": true
   },
   "outputs": [],
   "source": [
    "columns = {0:\"id\",1:\"tags\"}\n",
    "\n",
    "df.rename(columns=columns,inplace=True)"
   ]
  },
  {
   "cell_type": "code",
   "execution_count": 4,
   "metadata": {
    "collapsed": false
   },
   "outputs": [
    {
     "name": "stdout",
     "output_type": "stream",
     "text": [
      "<class 'pandas.core.frame.DataFrame'>\n",
      "Int64Index: 95692669 entries, 0 to 95692668\n",
      "Data columns (total 2 columns):\n",
      "id      int64\n",
      "tags    object\n",
      "dtypes: int64(1), object(1)\n",
      "memory usage: 2.1+ GB\n"
     ]
    }
   ],
   "source": [
    "df.info()"
   ]
  },
  {
   "cell_type": "code",
   "execution_count": 5,
   "metadata": {
    "collapsed": true
   },
   "outputs": [],
   "source": [
    "tmp = df[0:5]"
   ]
  },
  {
   "cell_type": "code",
   "execution_count": 7,
   "metadata": {
    "collapsed": false
   },
   "outputs": [
    {
     "data": {
      "text/html": [
       "<div>\n",
       "<table border=\"1\" class=\"dataframe\">\n",
       "  <thead>\n",
       "    <tr style=\"text-align: right;\">\n",
       "      <th></th>\n",
       "      <th>id</th>\n",
       "      <th>tags</th>\n",
       "    </tr>\n",
       "  </thead>\n",
       "  <tbody>\n",
       "    <tr>\n",
       "      <th>0</th>\n",
       "      <td>28605</td>\n",
       "      <td>art:0.9560,cartoon:0.8230,drawing:0.9560,hand:...</td>\n",
       "    </tr>\n",
       "    <tr>\n",
       "      <th>1</th>\n",
       "      <td>29060</td>\n",
       "      <td>art:0.7980,blur:0.6630,hair:0.6500,head:0.6500...</td>\n",
       "    </tr>\n",
       "    <tr>\n",
       "      <th>2</th>\n",
       "      <td>29205</td>\n",
       "      <td>aircraft:0.5660,blue:0.9010,outdoor:0.9180,veh...</td>\n",
       "    </tr>\n",
       "    <tr>\n",
       "      <th>3</th>\n",
       "      <td>29209</td>\n",
       "      <td>architecture:0.8710,bedroom:0.6860,building:0....</td>\n",
       "    </tr>\n",
       "    <tr>\n",
       "      <th>4</th>\n",
       "      <td>29294</td>\n",
       "      <td>art:0.5180,graffiti:0.5180,indoor:0.9140</td>\n",
       "    </tr>\n",
       "  </tbody>\n",
       "</table>\n",
       "</div>"
      ],
      "text/plain": [
       "      id                                               tags\n",
       "0  28605  art:0.9560,cartoon:0.8230,drawing:0.9560,hand:...\n",
       "1  29060  art:0.7980,blur:0.6630,hair:0.6500,head:0.6500...\n",
       "2  29205  aircraft:0.5660,blue:0.9010,outdoor:0.9180,veh...\n",
       "3  29209  architecture:0.8710,bedroom:0.6860,building:0....\n",
       "4  29294           art:0.5180,graffiti:0.5180,indoor:0.9140"
      ]
     },
     "execution_count": 7,
     "metadata": {},
     "output_type": "execute_result"
    }
   ],
   "source": [
    "tmp"
   ]
  },
  {
   "cell_type": "code",
   "execution_count": 27,
   "metadata": {
    "collapsed": false
   },
   "outputs": [
    {
     "data": {
      "text/plain": [
       "pandas.core.series.Series"
      ]
     },
     "execution_count": 27,
     "metadata": {},
     "output_type": "execute_result"
    }
   ],
   "source": [
    "type(tmp.tags.str.split(\",\"))"
   ]
  },
  {
   "cell_type": "code",
   "execution_count": 28,
   "metadata": {
    "collapsed": false
   },
   "outputs": [
    {
     "data": {
      "text/plain": [
       "[['art:0.9560',\n",
       "  'cartoon:0.8230',\n",
       "  'drawing:0.9560',\n",
       "  'hand:0.7740',\n",
       "  'illustration:0.8030',\n",
       "  'indoor:0.9420',\n",
       "  'map:0.6350',\n",
       "  'pattern:0.6090',\n",
       "  'sketch:0.9480'],\n",
       " ['art:0.7980',\n",
       "  'blur:0.6630',\n",
       "  'hair:0.6500',\n",
       "  'head:0.6500',\n",
       "  'indoor:0.8140',\n",
       "  'people:0.6500',\n",
       "  'triptych:0.7980'],\n",
       " ['aircraft:0.5660', 'blue:0.9010', 'outdoor:0.9180', 'vehicle:0.5660'],\n",
       " ['architecture:0.8710',\n",
       "  'bedroom:0.6860',\n",
       "  'building:0.8710',\n",
       "  'door:0.6290',\n",
       "  'french window:0.8390',\n",
       "  'furniture:0.7650',\n",
       "  'hall:0.6660',\n",
       "  'hallway:0.6420',\n",
       "  'home:0.8710',\n",
       "  'indoor:0.9600',\n",
       "  'interior door:0.6290',\n",
       "  'jamb:0.7730',\n",
       "  'room:0.9180',\n",
       "  'sun parlor:0.5610',\n",
       "  'window frame:0.5850',\n",
       "  'window:0.8390'],\n",
       " ['art:0.5180', 'graffiti:0.5180', 'indoor:0.9140']]"
      ]
     },
     "execution_count": 28,
     "metadata": {},
     "output_type": "execute_result"
    }
   ],
   "source": [
    "list(tmp.tags.str.split(\",\"))"
   ]
  },
  {
   "cell_type": "code",
   "execution_count": 29,
   "metadata": {
    "collapsed": true
   },
   "outputs": [],
   "source": [
    "l = list(tmp.tags.str.split(\",\"))"
   ]
  },
  {
   "cell_type": "code",
   "execution_count": 31,
   "metadata": {
    "collapsed": false
   },
   "outputs": [],
   "source": [
    "l = [item for sublist in l for item in sublist]"
   ]
  },
  {
   "cell_type": "code",
   "execution_count": 37,
   "metadata": {
    "collapsed": false
   },
   "outputs": [
    {
     "data": {
      "text/plain": [
       "['art',\n",
       " 'cartoon',\n",
       " 'drawing',\n",
       " 'hand',\n",
       " 'illustration',\n",
       " 'indoor',\n",
       " 'map',\n",
       " 'pattern',\n",
       " 'sketch',\n",
       " 'art',\n",
       " 'blur',\n",
       " 'hair',\n",
       " 'head',\n",
       " 'indoor',\n",
       " 'people',\n",
       " 'triptych',\n",
       " 'aircraft',\n",
       " 'blue',\n",
       " 'outdoor',\n",
       " 'vehicle',\n",
       " 'architecture',\n",
       " 'bedroom',\n",
       " 'building',\n",
       " 'door',\n",
       " 'french window',\n",
       " 'furniture',\n",
       " 'hall',\n",
       " 'hallway',\n",
       " 'home',\n",
       " 'indoor',\n",
       " 'interior door',\n",
       " 'jamb',\n",
       " 'room',\n",
       " 'sun parlor',\n",
       " 'window frame',\n",
       " 'window',\n",
       " 'art',\n",
       " 'graffiti',\n",
       " 'indoor']"
      ]
     },
     "execution_count": 37,
     "metadata": {},
     "output_type": "execute_result"
    }
   ],
   "source": [
    "[item.split(\":\")[0] for item in l]"
   ]
  },
  {
   "cell_type": "code",
   "execution_count": null,
   "metadata": {
    "collapsed": true
   },
   "outputs": [],
   "source": []
  }
 ],
 "metadata": {
  "kernelspec": {
   "display_name": "Python 2",
   "language": "python",
   "name": "python2"
  },
  "language_info": {
   "codemirror_mode": {
    "name": "ipython",
    "version": 2
   },
   "file_extension": ".py",
   "mimetype": "text/x-python",
   "name": "python",
   "nbconvert_exporter": "python",
   "pygments_lexer": "ipython2",
   "version": "2.7.6"
  }
 },
 "nbformat": 4,
 "nbformat_minor": 0
}

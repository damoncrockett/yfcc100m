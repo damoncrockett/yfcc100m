{
 "cells": [
  {
   "cell_type": "code",
   "execution_count": 47,
   "metadata": {
    "collapsed": true
   },
   "outputs": [],
   "source": [
    "import pandas as pd"
   ]
  },
  {
   "cell_type": "code",
   "execution_count": 48,
   "metadata": {
    "collapsed": false
   },
   "outputs": [],
   "source": [
    "df = pd.read_table('./raw/yfcc100m_dataset-9',sep='\\t',header=None)"
   ]
  },
  {
   "cell_type": "code",
   "execution_count": 49,
   "metadata": {
    "collapsed": true
   },
   "outputs": [],
   "source": [
    "columns = {0:'id',1:'user_nid',2:'user_nickname',3:'date_taken',4:'date_uploaded',\n",
    "          5:'capture_device',6:'title',7:'descr',8:'user_tags',9:'machine_tags',\n",
    "          10:'lon',11:'lat',12:'accuracy',13:'photo_url',14:'dl_url',15:'license_name',\n",
    "          16:'license_url',17:'server_id',18:'farm_id',19:'secret',20:'secret_orig',\n",
    "          21:'ext',22:'marker'}\n",
    "\n",
    "df.rename(columns=columns,inplace=True)"
   ]
  },
  {
   "cell_type": "code",
   "execution_count": 50,
   "metadata": {
    "collapsed": false
   },
   "outputs": [],
   "source": [
    "df = df[['lon','lat','dl_url']]"
   ]
  },
  {
   "cell_type": "code",
   "execution_count": 51,
   "metadata": {
    "collapsed": true
   },
   "outputs": [],
   "source": [
    "df.to_csv('/data/damoncrockett/flickr_data/raw/geo_9.csv',index=False)"
   ]
  }
 ],
 "metadata": {
  "kernelspec": {
   "display_name": "Python 2",
   "language": "python",
   "name": "python2"
  },
  "language_info": {
   "codemirror_mode": {
    "name": "ipython",
    "version": 2
   },
   "file_extension": ".py",
   "mimetype": "text/x-python",
   "name": "python",
   "nbconvert_exporter": "python",
   "pygments_lexer": "ipython2",
   "version": "2.7.6"
  }
 },
 "nbformat": 4,
 "nbformat_minor": 0
}
